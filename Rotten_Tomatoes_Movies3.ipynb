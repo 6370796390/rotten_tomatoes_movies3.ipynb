{
  "nbformat": 4,
  "nbformat_minor": 0,
  "metadata": {
    "colab": {
      "provenance": [],
      "gpuType": "T4",
      "authorship_tag": "ABX9TyPCSDR0XekG8ETL1q/oSnuK",
      "include_colab_link": true
    },
    "kernelspec": {
      "name": "python3",
      "display_name": "Python 3"
    },
    "language_info": {
      "name": "python"
    },
    "accelerator": "GPU"
  },
  "cells": [
    {
      "cell_type": "markdown",
      "metadata": {
        "id": "view-in-github",
        "colab_type": "text"
      },
      "source": [
        "<a href=\"https://colab.research.google.com/github/6370796390/rotten_tomatoes_movies3.ipynb/blob/main/Rotten_Tomatoes_Movies3.ipynb\" target=\"_parent\"><img src=\"https://colab.research.google.com/assets/colab-badge.svg\" alt=\"Open In Colab\"/></a>"
      ]
    },
    {
      "cell_type": "code",
      "source": [
        "!pip install pandas openpyxl"
      ],
      "metadata": {
        "colab": {
          "base_uri": "https://localhost:8080/"
        },
        "id": "6bMgoU9WMnjc",
        "outputId": "eb4dea8e-1a2e-409c-c0d0-ee38d5077066"
      },
      "execution_count": null,
      "outputs": [
        {
          "output_type": "stream",
          "name": "stdout",
          "text": [
            "Requirement already satisfied: pandas in /usr/local/lib/python3.10/dist-packages (2.2.2)\n",
            "Requirement already satisfied: openpyxl in /usr/local/lib/python3.10/dist-packages (3.1.5)\n",
            "Requirement already satisfied: numpy>=1.22.4 in /usr/local/lib/python3.10/dist-packages (from pandas) (1.26.4)\n",
            "Requirement already satisfied: python-dateutil>=2.8.2 in /usr/local/lib/python3.10/dist-packages (from pandas) (2.8.2)\n",
            "Requirement already satisfied: pytz>=2020.1 in /usr/local/lib/python3.10/dist-packages (from pandas) (2024.2)\n",
            "Requirement already satisfied: tzdata>=2022.7 in /usr/local/lib/python3.10/dist-packages (from pandas) (2024.2)\n",
            "Requirement already satisfied: et-xmlfile in /usr/local/lib/python3.10/dist-packages (from openpyxl) (2.0.0)\n",
            "Requirement already satisfied: six>=1.5 in /usr/local/lib/python3.10/dist-packages (from python-dateutil>=2.8.2->pandas) (1.17.0)\n"
          ]
        }
      ]
    },
    {
      "cell_type": "code",
      "execution_count": null,
      "metadata": {
        "id": "4JQm45etGmin"
      },
      "outputs": [],
      "source": [
        "# Import necessary libraries\n",
        "import pandas as pd\n",
        "import numpy as np\n",
        "import matplotlib.pyplot as plt\n",
        "import seaborn as sns\n",
        "from sklearn.model_selection import train_test_split, GridSearchCV, cross_val_score\n",
        "from sklearn.preprocessing import StandardScaler, LabelEncoder\n",
        "from sklearn.metrics import mean_absolute_error, mean_squared_error, r2_score\n",
        "from sklearn.pipeline import Pipeline\n",
        "from sklearn.linear_model import LinearRegression\n",
        "from sklearn.ensemble import RandomForestRegressor\n",
        "from sklearn.tree import DecisionTreeRegressor\n",
        "from google.colab import files\n",
        "from sklearn.metrics import mean_absolute_error, mean_squared_error, r2_score\n",
        "import io\n",
        "import joblib"
      ]
    },
    {
      "cell_type": "code",
      "source": [
        "# Step 1: Upload the dataset in Google Colab\n",
        "print(\"Please upload the Excel file containing the dataset.\")\n",
        "uploaded = files.upload()"
      ],
      "metadata": {
        "colab": {
          "base_uri": "https://localhost:8080/",
          "height": 90
        },
        "id": "Jgo76cg1Jt_r",
        "outputId": "3dd79972-a692-453a-e1d9-c5826d63b620"
      },
      "execution_count": 82,
      "outputs": [
        {
          "output_type": "stream",
          "name": "stdout",
          "text": [
            "Please upload the Excel file containing the dataset.\n"
          ]
        },
        {
          "output_type": "display_data",
          "data": {
            "text/plain": [
              "<IPython.core.display.HTML object>"
            ],
            "text/html": [
              "\n",
              "     <input type=\"file\" id=\"files-b42b0fb4-1dba-4f03-a29c-5e82bec091a9\" name=\"files[]\" multiple disabled\n",
              "        style=\"border:none\" />\n",
              "     <output id=\"result-b42b0fb4-1dba-4f03-a29c-5e82bec091a9\">\n",
              "      Upload widget is only available when the cell has been executed in the\n",
              "      current browser session. Please rerun this cell to enable.\n",
              "      </output>\n",
              "      <script>// Copyright 2017 Google LLC\n",
              "//\n",
              "// Licensed under the Apache License, Version 2.0 (the \"License\");\n",
              "// you may not use this file except in compliance with the License.\n",
              "// You may obtain a copy of the License at\n",
              "//\n",
              "//      http://www.apache.org/licenses/LICENSE-2.0\n",
              "//\n",
              "// Unless required by applicable law or agreed to in writing, software\n",
              "// distributed under the License is distributed on an \"AS IS\" BASIS,\n",
              "// WITHOUT WARRANTIES OR CONDITIONS OF ANY KIND, either express or implied.\n",
              "// See the License for the specific language governing permissions and\n",
              "// limitations under the License.\n",
              "\n",
              "/**\n",
              " * @fileoverview Helpers for google.colab Python module.\n",
              " */\n",
              "(function(scope) {\n",
              "function span(text, styleAttributes = {}) {\n",
              "  const element = document.createElement('span');\n",
              "  element.textContent = text;\n",
              "  for (const key of Object.keys(styleAttributes)) {\n",
              "    element.style[key] = styleAttributes[key];\n",
              "  }\n",
              "  return element;\n",
              "}\n",
              "\n",
              "// Max number of bytes which will be uploaded at a time.\n",
              "const MAX_PAYLOAD_SIZE = 100 * 1024;\n",
              "\n",
              "function _uploadFiles(inputId, outputId) {\n",
              "  const steps = uploadFilesStep(inputId, outputId);\n",
              "  const outputElement = document.getElementById(outputId);\n",
              "  // Cache steps on the outputElement to make it available for the next call\n",
              "  // to uploadFilesContinue from Python.\n",
              "  outputElement.steps = steps;\n",
              "\n",
              "  return _uploadFilesContinue(outputId);\n",
              "}\n",
              "\n",
              "// This is roughly an async generator (not supported in the browser yet),\n",
              "// where there are multiple asynchronous steps and the Python side is going\n",
              "// to poll for completion of each step.\n",
              "// This uses a Promise to block the python side on completion of each step,\n",
              "// then passes the result of the previous step as the input to the next step.\n",
              "function _uploadFilesContinue(outputId) {\n",
              "  const outputElement = document.getElementById(outputId);\n",
              "  const steps = outputElement.steps;\n",
              "\n",
              "  const next = steps.next(outputElement.lastPromiseValue);\n",
              "  return Promise.resolve(next.value.promise).then((value) => {\n",
              "    // Cache the last promise value to make it available to the next\n",
              "    // step of the generator.\n",
              "    outputElement.lastPromiseValue = value;\n",
              "    return next.value.response;\n",
              "  });\n",
              "}\n",
              "\n",
              "/**\n",
              " * Generator function which is called between each async step of the upload\n",
              " * process.\n",
              " * @param {string} inputId Element ID of the input file picker element.\n",
              " * @param {string} outputId Element ID of the output display.\n",
              " * @return {!Iterable<!Object>} Iterable of next steps.\n",
              " */\n",
              "function* uploadFilesStep(inputId, outputId) {\n",
              "  const inputElement = document.getElementById(inputId);\n",
              "  inputElement.disabled = false;\n",
              "\n",
              "  const outputElement = document.getElementById(outputId);\n",
              "  outputElement.innerHTML = '';\n",
              "\n",
              "  const pickedPromise = new Promise((resolve) => {\n",
              "    inputElement.addEventListener('change', (e) => {\n",
              "      resolve(e.target.files);\n",
              "    });\n",
              "  });\n",
              "\n",
              "  const cancel = document.createElement('button');\n",
              "  inputElement.parentElement.appendChild(cancel);\n",
              "  cancel.textContent = 'Cancel upload';\n",
              "  const cancelPromise = new Promise((resolve) => {\n",
              "    cancel.onclick = () => {\n",
              "      resolve(null);\n",
              "    };\n",
              "  });\n",
              "\n",
              "  // Wait for the user to pick the files.\n",
              "  const files = yield {\n",
              "    promise: Promise.race([pickedPromise, cancelPromise]),\n",
              "    response: {\n",
              "      action: 'starting',\n",
              "    }\n",
              "  };\n",
              "\n",
              "  cancel.remove();\n",
              "\n",
              "  // Disable the input element since further picks are not allowed.\n",
              "  inputElement.disabled = true;\n",
              "\n",
              "  if (!files) {\n",
              "    return {\n",
              "      response: {\n",
              "        action: 'complete',\n",
              "      }\n",
              "    };\n",
              "  }\n",
              "\n",
              "  for (const file of files) {\n",
              "    const li = document.createElement('li');\n",
              "    li.append(span(file.name, {fontWeight: 'bold'}));\n",
              "    li.append(span(\n",
              "        `(${file.type || 'n/a'}) - ${file.size} bytes, ` +\n",
              "        `last modified: ${\n",
              "            file.lastModifiedDate ? file.lastModifiedDate.toLocaleDateString() :\n",
              "                                    'n/a'} - `));\n",
              "    const percent = span('0% done');\n",
              "    li.appendChild(percent);\n",
              "\n",
              "    outputElement.appendChild(li);\n",
              "\n",
              "    const fileDataPromise = new Promise((resolve) => {\n",
              "      const reader = new FileReader();\n",
              "      reader.onload = (e) => {\n",
              "        resolve(e.target.result);\n",
              "      };\n",
              "      reader.readAsArrayBuffer(file);\n",
              "    });\n",
              "    // Wait for the data to be ready.\n",
              "    let fileData = yield {\n",
              "      promise: fileDataPromise,\n",
              "      response: {\n",
              "        action: 'continue',\n",
              "      }\n",
              "    };\n",
              "\n",
              "    // Use a chunked sending to avoid message size limits. See b/62115660.\n",
              "    let position = 0;\n",
              "    do {\n",
              "      const length = Math.min(fileData.byteLength - position, MAX_PAYLOAD_SIZE);\n",
              "      const chunk = new Uint8Array(fileData, position, length);\n",
              "      position += length;\n",
              "\n",
              "      const base64 = btoa(String.fromCharCode.apply(null, chunk));\n",
              "      yield {\n",
              "        response: {\n",
              "          action: 'append',\n",
              "          file: file.name,\n",
              "          data: base64,\n",
              "        },\n",
              "      };\n",
              "\n",
              "      let percentDone = fileData.byteLength === 0 ?\n",
              "          100 :\n",
              "          Math.round((position / fileData.byteLength) * 100);\n",
              "      percent.textContent = `${percentDone}% done`;\n",
              "\n",
              "    } while (position < fileData.byteLength);\n",
              "  }\n",
              "\n",
              "  // All done.\n",
              "  yield {\n",
              "    response: {\n",
              "      action: 'complete',\n",
              "    }\n",
              "  };\n",
              "}\n",
              "\n",
              "scope.google = scope.google || {};\n",
              "scope.google.colab = scope.google.colab || {};\n",
              "scope.google.colab._files = {\n",
              "  _uploadFiles,\n",
              "  _uploadFilesContinue,\n",
              "};\n",
              "})(self);\n",
              "</script> "
            ]
          },
          "metadata": {}
        },
        {
          "output_type": "stream",
          "name": "stdout",
          "text": [
            "Saving Rotten_Tomatoes_Movies3.xls to Rotten_Tomatoes_Movies3 (2).xls\n"
          ]
        }
      ]
    },
    {
      "cell_type": "code",
      "source": [
        "# Load the dataset (assumes the uploaded file is an Excel file)\n",
        "file_name = list(uploaded.keys())[0]\n",
        "df = pd.read_excel(uploaded[file_name])  # Correct way to read excel\n"
      ],
      "metadata": {
        "colab": {
          "base_uri": "https://localhost:8080/"
        },
        "id": "czSjHYTcT9WI",
        "outputId": "8216d484-842c-4e27-d0b3-424bc37df2b6"
      },
      "execution_count": 83,
      "outputs": [
        {
          "output_type": "stream",
          "name": "stderr",
          "text": [
            "<ipython-input-83-ab97c54d4fca>:3: FutureWarning: Passing bytes to 'read_excel' is deprecated and will be removed in a future version. To read from a byte string, wrap it in a `BytesIO` object.\n",
            "  df = pd.read_excel(uploaded[file_name])  # Correct way to read excel\n"
          ]
        }
      ]
    },
    {
      "cell_type": "code",
      "source": [
        "# Display basic information\n",
        "print(\"\\nDataset Overview:\\n\")\n",
        "print(df.head())"
      ],
      "metadata": {
        "colab": {
          "base_uri": "https://localhost:8080/"
        },
        "id": "dDbsenTgUTeI",
        "outputId": "1823a0ef-8749-4005-8ab6-1b101dca1062"
      },
      "execution_count": 84,
      "outputs": [
        {
          "output_type": "stream",
          "name": "stdout",
          "text": [
            "\n",
            "Dataset Overview:\n",
            "\n",
            "                                         movie_title  \\\n",
            "0  Percy Jackson & the Olympians: The Lightning T...   \n",
            "1                                        Please Give   \n",
            "2                                                 10   \n",
            "3                    12 Angry Men (Twelve Angry Men)   \n",
            "4                       20,000 Leagues Under The Sea   \n",
            "\n",
            "                                          movie_info  \\\n",
            "0  A teenager discovers he's the descendant of a ...   \n",
            "1  Kate has a lot on her mind. There's the ethics...   \n",
            "2  Blake Edwards' 10 stars Dudley Moore as George...   \n",
            "3  A Puerto Rican youth is on trial for murder, a...   \n",
            "4  This 1954 Disney version of Jules Verne's 20,0...   \n",
            "\n",
            "                                   critics_consensus rating  \\\n",
            "0  Though it may seem like just another Harry Pot...     PG   \n",
            "1  Nicole Holofcener's newest might seem slight i...      R   \n",
            "2                                                NaN      R   \n",
            "3  Sidney Lumet's feature debut is a superbly wri...     NR   \n",
            "4  One of Disney's finest live-action adventures,...      G   \n",
            "\n",
            "                                               genre          directors  \\\n",
            "0  Action & Adventure, Comedy, Drama, Science Fic...     Chris Columbus   \n",
            "1                                             Comedy  Nicole Holofcener   \n",
            "2                                    Comedy, Romance      Blake Edwards   \n",
            "3                                    Classics, Drama       Sidney Lumet   \n",
            "4           Action & Adventure, Drama, Kids & Family  Richard Fleischer   \n",
            "\n",
            "             writers                                               cast  \\\n",
            "0       Craig Titley  Logan Lerman, Brandon T. Jackson, Alexandra Da...   \n",
            "1  Nicole Holofcener  Catherine Keener, Amanda Peet, Oliver Platt, R...   \n",
            "2      Blake Edwards  Dudley Moore, Bo Derek, Julie Andrews, Robert ...   \n",
            "3      Reginald Rose  Martin Balsam, John Fiedler, Lee J. Cobb, E.G....   \n",
            "4        Earl Felton  James Mason, Kirk Douglas, Paul Lukas, Peter L...   \n",
            "\n",
            "  in_theaters_date on_streaming_date  runtime_in_minutes  \\\n",
            "0       2010-02-12        2010-06-29                83.0   \n",
            "1       2010-04-30        2010-10-19                90.0   \n",
            "2       1979-10-05        1997-08-27               118.0   \n",
            "3       1957-04-13        2001-03-06                95.0   \n",
            "4       1954-01-01        2003-05-20               127.0   \n",
            "\n",
            "              studio_name tomatometer_status  tomatometer_rating  \\\n",
            "0        20th Century Fox             Rotten                  49   \n",
            "1  Sony Pictures Classics    Certified Fresh                  86   \n",
            "2             Waner Bros.              Fresh                  68   \n",
            "3    Criterion Collection    Certified Fresh                 100   \n",
            "4                  Disney              Fresh                  89   \n",
            "\n",
            "   tomatometer_count  audience_rating  \n",
            "0                144             53.0  \n",
            "1                140             64.0  \n",
            "2                 22             53.0  \n",
            "3                 51             97.0  \n",
            "4                 27             74.0  \n"
          ]
        }
      ]
    },
    {
      "cell_type": "code",
      "source": [
        "print(\"\\nStatistical Summary:\\n\")\n",
        "print(df.describe())"
      ],
      "metadata": {
        "colab": {
          "base_uri": "https://localhost:8080/"
        },
        "id": "BTUsByXyq0n5",
        "outputId": "351d276e-518f-4fe8-9871-da5c3741f3ce"
      },
      "execution_count": 80,
      "outputs": [
        {
          "output_type": "stream",
          "name": "stdout",
          "text": [
            "\n",
            "Statistical Summary:\n",
            "\n",
            "       movie_title   movie_info  critics_consensus       rating        genre  \\\n",
            "count  7610.000000  7610.000000        7610.000000  7610.000000  7610.000000   \n",
            "mean   3730.776084  3804.500000        3803.213009     4.381997   383.448095   \n",
            "std    2151.955808  2196.962107        2196.171179     1.684644   172.178180   \n",
            "min       0.000000     0.000000           0.000000     0.000000     0.000000   \n",
            "25%    1870.250000  1902.250000        1902.250000     3.000000   228.000000   \n",
            "50%    3733.500000  3804.500000        3802.500000     4.000000   433.000000   \n",
            "75%    5600.750000  5706.750000        5704.750000     6.000000   534.000000   \n",
            "max    7460.000000  7609.000000        7607.000000     7.000000   623.000000   \n",
            "\n",
            "         directors      writers         cast  in_theaters_date  \\\n",
            "count  7610.000000  7610.000000  7610.000000      7.610000e+03   \n",
            "mean   1885.911958  3051.995269  3804.500000      1.056381e+18   \n",
            "std    1058.967794  1740.839823  2196.962107      4.813878e+17   \n",
            "min       0.000000     0.000000     0.000000     -1.730419e+18   \n",
            "25%     962.250000  1536.250000  1902.250000      9.458208e+17   \n",
            "50%    1896.500000  3062.500000  3804.500000      1.176768e+18   \n",
            "75%    2828.000000  4559.000000  5706.750000      1.375402e+18   \n",
            "max    3643.000000  6003.000000  7609.000000      1.570752e+18   \n",
            "\n",
            "       on_streaming_date  runtime_in_minutes  studio_name  tomatometer_status  \\\n",
            "count       7.610000e+03         7610.000000  7610.000000         7610.000000   \n",
            "mean        1.210048e+18          106.319974   628.483574            1.084625   \n",
            "std         2.001937e+17           19.560031   329.192190            0.870472   \n",
            "min        -1.091059e+18            1.000000     0.000000            0.000000   \n",
            "25%         1.033430e+18           94.000000   365.250000            0.000000   \n",
            "50%         1.199750e+18          103.000000   645.000000            1.000000   \n",
            "75%         1.386634e+18          116.000000   919.000000            2.000000   \n",
            "max         1.572566e+18          333.000000  1118.000000            2.000000   \n",
            "\n",
            "       tomatometer_rating  tomatometer_count  audience_rating  \\\n",
            "count         7610.000000        7610.000000      7610.000000   \n",
            "mean            61.312352         101.143101        62.987385   \n",
            "std             27.638312          72.922055        19.546161   \n",
            "min              0.000000           5.000000         6.000000   \n",
            "25%             39.000000          44.000000        48.000000   \n",
            "50%             67.000000          80.000000        65.000000   \n",
            "75%             86.000000         141.000000        79.000000   \n",
            "max            100.000000         497.000000       100.000000   \n",
            "\n",
            "       predicted_audience_rating  \n",
            "count                7610.000000  \n",
            "mean                   62.957255  \n",
            "std                    15.508371  \n",
            "min                    18.806677  \n",
            "25%                    50.836329  \n",
            "50%                    62.973575  \n",
            "75%                    76.132537  \n",
            "max                    94.640360  \n"
          ]
        }
      ]
    },
    {
      "cell_type": "code",
      "source": [
        "# Check for null values and summary statistics\n",
        "print(\"\\nMissing Values:\\n\")\n",
        "print(df.isnull().sum())"
      ],
      "metadata": {
        "colab": {
          "base_uri": "https://localhost:8080/"
        },
        "id": "KRc6o6TBa-vR",
        "outputId": "ee78f4bc-ebf0-4a6a-8d90-e1d30c928b4a"
      },
      "execution_count": 77,
      "outputs": [
        {
          "output_type": "stream",
          "name": "stdout",
          "text": [
            "\n",
            "Missing Values:\n",
            "\n",
            "movie_title                  0\n",
            "movie_info                   0\n",
            "critics_consensus            0\n",
            "rating                       0\n",
            "genre                        0\n",
            "directors                    0\n",
            "writers                      0\n",
            "cast                         0\n",
            "in_theaters_date             0\n",
            "on_streaming_date            0\n",
            "runtime_in_minutes           0\n",
            "studio_name                  0\n",
            "tomatometer_status           0\n",
            "tomatometer_rating           0\n",
            "tomatometer_count            0\n",
            "audience_rating              0\n",
            "predicted_audience_rating    0\n",
            "dtype: int64\n"
          ]
        }
      ]
    },
    {
      "cell_type": "code",
      "source": [
        "print(\"\\nStatistical Summary:\\n\")\n",
        "print(df.describe())"
      ],
      "metadata": {
        "colab": {
          "base_uri": "https://localhost:8080/"
        },
        "id": "Uwk6Ffqeqt7x",
        "outputId": "b383b1f6-b838-4219-807b-bf4aced3766d"
      },
      "execution_count": 78,
      "outputs": [
        {
          "output_type": "stream",
          "name": "stdout",
          "text": [
            "\n",
            "Statistical Summary:\n",
            "\n",
            "       movie_title   movie_info  critics_consensus       rating        genre  \\\n",
            "count  7610.000000  7610.000000        7610.000000  7610.000000  7610.000000   \n",
            "mean   3730.776084  3804.500000        3803.213009     4.381997   383.448095   \n",
            "std    2151.955808  2196.962107        2196.171179     1.684644   172.178180   \n",
            "min       0.000000     0.000000           0.000000     0.000000     0.000000   \n",
            "25%    1870.250000  1902.250000        1902.250000     3.000000   228.000000   \n",
            "50%    3733.500000  3804.500000        3802.500000     4.000000   433.000000   \n",
            "75%    5600.750000  5706.750000        5704.750000     6.000000   534.000000   \n",
            "max    7460.000000  7609.000000        7607.000000     7.000000   623.000000   \n",
            "\n",
            "         directors      writers         cast  in_theaters_date  \\\n",
            "count  7610.000000  7610.000000  7610.000000      7.610000e+03   \n",
            "mean   1885.911958  3051.995269  3804.500000      1.056381e+18   \n",
            "std    1058.967794  1740.839823  2196.962107      4.813878e+17   \n",
            "min       0.000000     0.000000     0.000000     -1.730419e+18   \n",
            "25%     962.250000  1536.250000  1902.250000      9.458208e+17   \n",
            "50%    1896.500000  3062.500000  3804.500000      1.176768e+18   \n",
            "75%    2828.000000  4559.000000  5706.750000      1.375402e+18   \n",
            "max    3643.000000  6003.000000  7609.000000      1.570752e+18   \n",
            "\n",
            "       on_streaming_date  runtime_in_minutes  studio_name  tomatometer_status  \\\n",
            "count       7.610000e+03         7610.000000  7610.000000         7610.000000   \n",
            "mean        1.210048e+18          106.319974   628.483574            1.084625   \n",
            "std         2.001937e+17           19.560031   329.192190            0.870472   \n",
            "min        -1.091059e+18            1.000000     0.000000            0.000000   \n",
            "25%         1.033430e+18           94.000000   365.250000            0.000000   \n",
            "50%         1.199750e+18          103.000000   645.000000            1.000000   \n",
            "75%         1.386634e+18          116.000000   919.000000            2.000000   \n",
            "max         1.572566e+18          333.000000  1118.000000            2.000000   \n",
            "\n",
            "       tomatometer_rating  tomatometer_count  audience_rating  \\\n",
            "count         7610.000000        7610.000000      7610.000000   \n",
            "mean            61.312352         101.143101        62.987385   \n",
            "std             27.638312          72.922055        19.546161   \n",
            "min              0.000000           5.000000         6.000000   \n",
            "25%             39.000000          44.000000        48.000000   \n",
            "50%             67.000000          80.000000        65.000000   \n",
            "75%             86.000000         141.000000        79.000000   \n",
            "max            100.000000         497.000000       100.000000   \n",
            "\n",
            "       predicted_audience_rating  \n",
            "count                7610.000000  \n",
            "mean                   62.957255  \n",
            "std                    15.508371  \n",
            "min                    18.806677  \n",
            "25%                    50.836329  \n",
            "50%                    62.973575  \n",
            "75%                    76.132537  \n",
            "max                    94.640360  \n"
          ]
        }
      ]
    },
    {
      "cell_type": "code",
      "source": [
        "# Visualize target variable distribution\n",
        "if 'audience_rating' in df.columns:\n",
        "    sns.histplot(df['audience_rating'], bins=30, kde=True)\n",
        "    plt.title('Distribution of Audience Rating')\n",
        "    plt.show()\n",
        "else:\n",
        "    raise ValueError(\"The target variable 'audience_rating' is not in the dataset.\")\n"
      ],
      "metadata": {
        "colab": {
          "base_uri": "https://localhost:8080/",
          "height": 472
        },
        "id": "oPqkVToDUXSH",
        "outputId": "cd4fbc05-4424-48f5-ad42-c323dd0cb30f"
      },
      "execution_count": null,
      "outputs": [
        {
          "output_type": "display_data",
          "data": {
            "text/plain": [
              "<Figure size 640x480 with 1 Axes>"
            ],
            "image/png": "[encoded data removed]"
          },
          "metadata": {}
        }
      ]
    },
    {
      "cell_type": "code",
      "source": [
        "# Step 3: Data Preprocessing\n",
        "# Handle missing values (e.g., drop or impute)\n",
        "df = df.dropna()  # Drop rows with missing values\n",
        "\n",
        "# Convert DateTime columns to numeric features (if any)\n",
        "datetime_cols = df.select_dtypes(include=['datetime64']).columns\n",
        "for col in datetime_cols:\n",
        "    df[col] = df[col].astype(np.int64)  # Convert to Unix timestamp (numeric format)\n",
        "\n",
        "# Encode categorical features\n",
        "label_encoders = {}\n",
        "categorical_cols = df.select_dtypes(include=['object']).columns\n",
        "for col in categorical_cols:\n",
        "    le = LabelEncoder()\n",
        "    df[col] = le.fit_transform(df[col])\n",
        "    label_encoders[col] = le\n",
        "\n",
        "# Feature-target split\n",
        "X = df.drop(columns=['audience_rating'])\n",
        "y = df['audience_rating']\n",
        "\n",
        "# Train-test split\n",
        "X_train, X_test, y_train, y_test = train_test_split(X, y, test_size=0.2, random_state=42)\n"
      ],
      "metadata": {
        "id": "SencU_HlYYxD"
      },
      "execution_count": null,
      "outputs": []
    },
    {
      "cell_type": "code",
      "source": [
        "# Step 4: Model Selection and Training\n",
        "from sklearn.metrics import mean_absolute_error, mean_squared_error, r2_score\n",
        "\n",
        "# Define the models to evaluate\n",
        "models = {\n",
        "    'Linear Regression': LinearRegression(),\n",
        "    'Decision Tree': DecisionTreeRegressor(random_state=42),\n",
        "    'Random Forest': RandomForestRegressor(n_estimators=100, random_state=42)\n",
        "}\n",
        "\n",
        "# Initialize a dictionary to store evaluation results\n",
        "evaluation_results = {}\n",
        "\n",
        "# Evaluate models\n",
        "print(\"\\nModel Performance:\")\n",
        "for name, model in models.items():\n",
        "    try:\n",
        "        # Fit the model to the training data\n",
        "        model.fit(X_train, y_train)\n",
        "\n",
        "        # Make predictions on the test set\n",
        "        y_pred = model.predict(X_test)\n",
        "\n",
        "        # Calculate the evaluation metrics\n",
        "        mae = mean_absolute_error(y_test, y_pred)\n",
        "        mse = mean_squared_error(y_test, y_pred)\n",
        "        r2 = r2_score(y_test, y_pred)\n",
        "\n",
        "        # Store the results in the dictionary\n",
        "        evaluation_results[name] = {\n",
        "            'MAE': mae,\n",
        "            'MSE': mse,\n",
        "            'R2 Score': r2\n",
        "        }\n",
        "\n",
        "        # Print the performance of each model\n",
        "        print(f\"{name} Performance:\")\n",
        "        print(f\" MAE: {mae:.4f}, MSE: {mse:.4f}, R2 Score: {r2:.4f}\\n\")\n",
        "\n",
        "    except Exception as e:\n",
        "        # Handle any errors that occur during fitting or prediction\n",
        "        print(f\"Error with model {name}: {e}\")\n",
        "\n",
        "# Optional: Show evaluation results in a DataFrame for better clarity\n",
        "evaluation_df = pd.DataFrame(evaluation_results)\n",
        "print(\"\\nModel Evaluation Summary:\")\n",
        "print(evaluation_df)\n"
      ],
      "metadata": {
        "colab": {
          "base_uri": "https://localhost:8080/"
        },
        "id": "C4l4uwWKYf_a",
        "outputId": "fb12b49e-b5e3-40d6-f176-6b3b40669067"
      },
      "execution_count": null,
      "outputs": [
        {
          "output_type": "stream",
          "name": "stdout",
          "text": [
            "\n",
            "Model Performance:\n",
            "Linear Regression Performance:\n",
            " MAE: 15.7800, MSE: 356.6869, R2 Score: 0.0624\n",
            "\n",
            "Decision Tree Performance:\n",
            " MAE: 13.6393, MSE: 312.1321, R2 Score: 0.1795\n",
            "\n",
            "Random Forest Performance:\n",
            " MAE: 9.7016, MSE: 151.8937, R2 Score: 0.6007\n",
            "\n",
            "\n",
            "Model Evaluation Summary:\n",
            "          Linear Regression  Decision Tree  Random Forest\n",
            "MAE               15.779972      13.639290       9.701557\n",
            "MSE              356.686930     312.132063     151.893662\n",
            "R2 Score           0.062354       0.179478       0.600707\n"
          ]
        }
      ]
    },
    {
      "cell_type": "code",
      "source": [
        "# Step 5: Hyperparameter Tuning for Random Forest\n",
        "param_grid = {\n",
        "    'n_estimators': [50, 100, 150],\n",
        "    'max_depth': [None, 10, 20, 30],\n",
        "    'min_samples_split': [2, 5, 10]\n",
        "}"
      ],
      "metadata": {
        "id": "LvBJEkBYc-t4"
      },
      "execution_count": null,
      "outputs": []
    },
    {
      "cell_type": "code",
      "source": [
        "grid_search = GridSearchCV(RandomForestRegressor(random_state=42), param_grid, cv=5, scoring='r2')\n",
        "grid_search.fit(X_train, y_train)\n",
        "\n",
        "print(\"Best Hyperparameters for Random Forest:\", grid_search.best_params_)"
      ],
      "metadata": {
        "colab": {
          "base_uri": "https://localhost:8080/"
        },
        "id": "SAjtKKcIZhTS",
        "outputId": "8fb02e81-6115-4b76-f897-373c65bab700"
      },
      "execution_count": null,
      "outputs": [
        {
          "output_type": "stream",
          "name": "stdout",
          "text": [
            "Best Hyperparameters for Random Forest: {'max_depth': 10, 'min_samples_split': 2, 'n_estimators': 150}\n"
          ]
        }
      ]
    },
    {
      "cell_type": "code",
      "source": [
        "# Final Model Evaluation\n",
        "best_rf = grid_search.best_estimator_\n",
        "y_pred_final = best_rf.predict(X_test)\n",
        "print(\"\\nFinal Model Performance:\")\n",
        "print(\"MAE:\", mean_absolute_error(y_test, y_pred_final))\n",
        "print(\"MSE:\", mean_squared_error(y_test, y_pred_final))\n",
        "print(\"R2 Score:\", r2_score(y_test, y_pred_final))"
      ],
      "metadata": {
        "colab": {
          "base_uri": "https://localhost:8080/"
        },
        "id": "w2yhUZZdgsHn",
        "outputId": "a79882f5-5b72-42d3-d3f7-500d99ca86eb"
      },
      "execution_count": null,
      "outputs": [
        {
          "output_type": "stream",
          "name": "stdout",
          "text": [
            "\n",
            "Final Model Performance:\n",
            "MAE: 9.652784350309696\n",
            "MSE: 148.868122561332\n",
            "R2 Score: 0.6086606890032331\n"
          ]
        }
      ]
    },
    {
      "cell_type": "code",
      "source": [
        "# Step 6: Pipeline Creation\n",
        "pipeline = Pipeline([\n",
        "    ('scaler', StandardScaler()),\n",
        "    ('model', RandomForestRegressor(**grid_search.best_params_, random_state=42))\n",
        "])\n",
        "\n",
        "pipeline.fit(X_train, y_train)\n",
        "final_predictions = pipeline.predict(X_test)\n",
        "print(\"Pipeline R2 Score:\", r2_score(y_test, final_predictions))"
      ],
      "metadata": {
        "colab": {
          "base_uri": "https://localhost:8080/"
        },
        "id": "mOt2ctHXg8C9",
        "outputId": "0a61269d-1dc0-4719-ca5e-f980763e3d9e"
      },
      "execution_count": null,
      "outputs": [
        {
          "output_type": "stream",
          "name": "stdout",
          "text": [
            "Pipeline R2 Score: 0.6088263694628949\n"
          ]
        }
      ]
    },
    {
      "cell_type": "code",
      "source": [
        "# Step 7: Predict 'audience_rating' for the existing data (same dataset)\n",
        "# Preprocess the same dataset for prediction (using the same preprocessing steps as for training data)\n",
        "df_preprocessed = df.copy()"
      ],
      "metadata": {
        "id": "u4TyhaG-or1z"
      },
      "execution_count": null,
      "outputs": []
    },
    {
      "cell_type": "code",
      "source": [
        "# Step 7.1: Apply the same LabelEncoding for categorical features in the dataset\n",
        "for col in categorical_cols:\n",
        "    if col in df_preprocessed.columns:\n",
        "        # Ensure the label encoder was created during training, then apply the same transformation to the data\n",
        "        df_preprocessed[col] = label_encoders[col].transform(df_preprocessed[col])"
      ],
      "metadata": {
        "id": "dU3Hd7C4o3v6"
      },
      "execution_count": null,
      "outputs": []
    },
    {
      "cell_type": "code",
      "source": [
        "# Step 7.2: Drop any remaining rows with missing values (if any) from the dataset\n",
        "df_preprocessed = df_preprocessed.dropna()"
      ],
      "metadata": {
        "id": "6REjWgn0pAtT"
      },
      "execution_count": null,
      "outputs": []
    },
    {
      "cell_type": "code",
      "source": [
        "# Step 7.3: Ensure all features in df_preprocessed are numeric\n",
        "# Check if any column is still object or string type after encoding, which should no longer be the case\n",
        "print(df_preprocessed.dtypes)"
      ],
      "metadata": {
        "colab": {
          "base_uri": "https://localhost:8080/"
        },
        "id": "Rga9TDXppHdS",
        "outputId": "4a973a65-a42a-445a-d484-e0d1e6fcf244"
      },
      "execution_count": null,
      "outputs": [
        {
          "output_type": "stream",
          "name": "stdout",
          "text": [
            "movie_title             int64\n",
            "movie_info              int64\n",
            "critics_consensus       int64\n",
            "rating                  int64\n",
            "genre                   int64\n",
            "directors               int64\n",
            "writers                 int64\n",
            "cast                    int64\n",
            "in_theaters_date        int64\n",
            "on_streaming_date       int64\n",
            "runtime_in_minutes    float64\n",
            "studio_name             int64\n",
            "tomatometer_status      int64\n",
            "tomatometer_rating      int64\n",
            "tomatometer_count       int64\n",
            "audience_rating       float64\n",
            "dtype: object\n"
          ]
        }
      ]
    },
    {
      "source": [
        "# Step 7.4: Use the trained pipeline to predict 'audience_rating' for the preprocessed dataset\n",
        "# Remove the target variable from the prediction data\n",
        "X_preprocessed = df_preprocessed.drop(columns=['audience_rating'])\n",
        "predictions = pipeline.predict(X_preprocessed)"
      ],
      "cell_type": "code",
      "metadata": {
        "id": "JYznWGAwpqG7"
      },
      "execution_count": null,
      "outputs": []
    },
    {
      "cell_type": "code",
      "source": [
        "# Step 7.5: Add predictions to the original dataframe as a new column\n",
        "df['predicted_audience_rating'] = predictions"
      ],
      "metadata": {
        "id": "ogQAB6T5pt_6"
      },
      "execution_count": null,
      "outputs": []
    },
    {
      "cell_type": "code",
      "source": [
        "# Step 7.6: Display predictions for the 'audience_rating' column in the dataset\n",
        "print(\"\\nPredicted 'audience_rating' for the existing dataset:\")\n",
        "print(df[['audience_rating', 'predicted_audience_rating']].head())"
      ],
      "metadata": {
        "colab": {
          "base_uri": "https://localhost:8080/"
        },
        "id": "fpNe22vXqDfU",
        "outputId": "17b3f4ca-4b86-448c-83d0-2602282a0d38"
      },
      "execution_count": null,
      "outputs": [
        {
          "output_type": "stream",
          "name": "stdout",
          "text": [
            "\n",
            "Predicted 'audience_rating' for the existing dataset:\n",
            "   audience_rating  predicted_audience_rating\n",
            "0             53.0                  49.593469\n",
            "1             64.0                  70.530261\n",
            "3             97.0                  89.793895\n",
            "4             74.0                  78.749764\n",
            "5             37.0                  37.392345\n"
          ]
        }
      ]
    },
    {
      "cell_type": "code",
      "source": [
        "# Step 8: Save the Pipeline for Future Use (Optional, if you want to save the trained pipeline)\n",
        "pipeline_filename = 'audience_rating_pipeline.pkl'\n",
        "joblib.dump(pipeline, pipeline_filename)\n",
        "print(f\"Pipeline saved as {pipeline_filename}\")\n"
      ],
      "metadata": {
        "colab": {
          "base_uri": "https://localhost:8080/"
        },
        "id": "XfK0nsK8qHli",
        "outputId": "1ba96ab5-13fd-4d8b-dddc-43dd7c48925b"
      },
      "execution_count": null,
      "outputs": [
        {
          "output_type": "stream",
          "name": "stdout",
          "text": [
            "Pipeline saved as audience_rating_pipeline.pkl\n"
          ]
        }
      ]
    },
    {
      "cell_type": "code",
      "source": [
        "# Step 9: Validate Model Accuracy on Test Set (using the original data)\n",
        "print(\"\\nFinal Model Accuracy Validation (on the test set):\")\n",
        "print(\"R2 Score on Test Set:\", r2_score(y_test, final_predictions))\n",
        "print(\"MAE on Test Set:\", mean_absolute_error(y_test, final_predictions))\n",
        "print(\"MSE on Test Set:\", mean_squared_error(y_test, final_predictions))\n",
        "\n",
        "# Conclusion\n",
        "print(\"\\nProject Completed Successfully! Use the saved pipeline for future predictions.\")"
      ],
      "metadata": {
        "colab": {
          "base_uri": "https://localhost:8080/"
        },
        "id": "nJEnhVB3p0ca",
        "outputId": "5dcc6989-75b7-411d-cd92-1d031148a9d1"
      },
      "execution_count": null,
      "outputs": [
        {
          "output_type": "stream",
          "name": "stdout",
          "text": [
            "\n",
            "Final Model Accuracy Validation (on the test set):\n",
            "R2 Score on Test Set: 0.6088263694628949\n",
            "MAE on Test Set: 9.649790829518777\n",
            "MSE on Test Set: 148.8050965931201\n",
            "\n",
            "Project Completed Successfully! Use the saved pipeline for future predictions.\n"
          ]
        }
      ]
    },
    {
      "cell_type": "code",
      "source": [
        "# Import necessary libraries\n",
        "import pandas as pd\n",
        "import numpy as np\n",
        "import matplotlib.pyplot as plt\n",
        "import seaborn as sns\n",
        "from sklearn.model_selection import train_test_split, GridSearchCV, cross_val_score\n",
        "from sklearn.preprocessing import StandardScaler, LabelEncoder\n",
        "from sklearn.metrics import mean_absolute_error, mean_squared_error, r2_score\n",
        "from sklearn.pipeline import Pipeline\n",
        "from sklearn.linear_model import LinearRegression\n",
        "from sklearn.ensemble import RandomForestRegressor\n",
        "from sklearn.tree import DecisionTreeRegressor\n",
        "from google.colab import files\n",
        "import io\n",
        "\n",
        "# Step 1: Upload the dataset in Google Colab\n",
        "print(\"Please upload the Excel file containing the dataset.\")\n",
        "uploaded = files.upload()\n",
        "\n",
        "# Load the dataset (assumes the uploaded file is an Excel file)\n",
        "if uploaded:\n",
        "    file_name = list(uploaded.keys())[0]\n",
        "    df = pd.read_excel(io.BytesIO(uploaded[file_name]))  # Correct way to read excel\n",
        "else:\n",
        "    raise ValueError(\"No file uploaded.\")\n",
        "# Display basic information\n",
        "print(\"\\nDataset Overview:\\n\")\n",
        "print(df.head())\n",
        "print(\"\\nDataset Info:\\n\")\n",
        "print(df.info())\n",
        "\n",
        "# Step 2: Exploratory Data Analysis (EDA)\n",
        "# Check for null values and summary statistics\n",
        "print(\"\\nMissing Values:\\n\")\n",
        "print(df.isnull().sum())\n",
        "print(\"\\nStatistical Summary:\\n\")\n",
        "print(df.describe())\n",
        "\n",
        "# Visualize target variable distribution\n",
        "if 'audience_rating' in df.columns:\n",
        "    sns.histplot(df['audience_rating'], bins=30, kde=True)\n",
        "    plt.title('Distribution of Audience Rating')\n",
        "    plt.show()\n",
        "else:\n",
        "    raise ValueError(\"The target variable 'audience_rating' is not in the dataset.\")\n",
        "\n",
        "# Step 3: Data Preprocessing\n",
        "# Handle missing values (e.g., drop or impute)\n",
        "df = df.dropna()  # Drop rows with missing values\n",
        "\n",
        "# Encode categorical features\n",
        "label_encoders = {}\n",
        "categorical_cols = df.select_dtypes(include=['object']).columns\n",
        "for col in categorical_cols:\n",
        "    le = LabelEncoder()\n",
        "    df[col] = le.fit_transform(df[col])\n",
        "    label_encoders[col] = le\n",
        "\n",
        "# Feature-target split\n",
        "X = df.drop(columns=['audience_rating'])\n",
        "y = df['audience_rating']\n",
        "\n",
        "# Train-test split\n",
        "X_train, X_test, y_train, y_test = train_test_split(X, y, test_size=0.2, random_state=42)\n",
        "\n",
        "# Step 4: Model Selection and Training\n",
        "models = {\n",
        "    'Linear Regression': LinearRegression(),\n",
        "    'Decision Tree': DecisionTreeRegressor(),\n",
        "    'Random Forest': RandomForestRegressor(n_estimators=100, random_state=42)\n",
        "}\n",
        "\n",
        "# Evaluate models\n",
        "print(\"\\nModel Performance:\")\n",
        "for name, model in models.items():\n",
        "    model.fit(X_train, y_train)\n",
        "    y_pred = model.predict(X_test)\n",
        "    mae = mean_absolute_error(y_test, y_pred)\n",
        "    mse = mean_squared_error(y_test, y_pred)\n",
        "    r2 = r2_score(y_test, y_pred)\n",
        "    print(f\"{name} Performance:\\n MAE: {mae:.4f}, MSE: {mse:.4f}, R2 Score: {r2:.4f}\\n\")\n",
        "\n",
        "# Step 5: Hyperparameter Tuning for Random Forest\n",
        "param_grid = {\n",
        "    'n_estimators': [50, 100, 150],\n",
        "    'max_depth': [None, 10, 20, 30],\n",
        "    'min_samples_split': [2, 5, 10]\n",
        "}\n",
        "\n",
        "grid_search = GridSearchCV(RandomForestRegressor(random_state=42), param_grid, cv=5, scoring='r2')\n",
        "grid_search.fit(X_train, y_train)\n",
        "\n",
        "print(\"Best Hyperparameters for Random Forest:\", grid_search.best_params_)\n",
        "\n",
        "# Final Model Evaluation\n",
        "best_rf = grid_search.best_estimator_\n",
        "y_pred_final = best_rf.predict(X_test)\n",
        "print(\"\\nFinal Model Performance:\")\n",
        "print(\"MAE:\", mean_absolute_error(y_test, y_pred_final))\n",
        "print(\"MSE:\", mean_squared_error(y_test, y_pred_final))\n",
        "print(\"R2 Score:\", r2_score(y_test, y_pred_final))\n",
        "\n",
        "# Step 6: Pipeline Creation\n",
        "pipeline = Pipeline([\n",
        "    ('scaler', StandardScaler()),\n",
        "    ('model', RandomForestRegressor(**grid_search.best_params_, random_state=42))\n",
        "])\n",
        "\n",
        "pipeline.fit(X_train, y_train)\n",
        "final_predictions = pipeline.predict(X_test)\n",
        "print(\"Pipeline R2 Score:\", r2_score(y_test, final_predictions))\n",
        "\n",
        "# Step 7: Predict audience_rating for new data\n",
        "print(\"\\nPlease upload a new Excel file with the same feature columns to predict 'audience_rating'.\")\n",
        "new_data_uploaded = files.upload()\n",
        "if new_data_uploaded:\n",
        "    new_file_name = list(new_data_uploaded.keys())[0]\n",
        "    new_df = pd.read_excel(io.BytesIO(new_data_uploaded[new_file_name]))\n",
        "else:\n",
        "    raise ValueError(\"No file uploaded.\")\n",
        "\n",
        "# Preprocess new data\n",
        "for col in categorical_cols:\n",
        "    if col in new_df.columns:\n",
        "        new_df[col] = label_encoders[col].transform(new_df[col])\n",
        "\n",
        "new_df = new_df.dropna()  # Ensure no missing values in new data\n",
        "scaled_predictions = pipeline.predict(new_df)\n",
        "\n",
        "# Display predictions\n",
        "print(\"\\nPredicted 'audience_rating' for the new data:\")\n",
        "print(scaled_predictions)\n",
        "\n",
        "# Step 8: Save the Pipeline for Future Use\n",
        "import joblib\n",
        "pipeline_filename = 'audience_rating_pipeline.pkl'\n",
        "joblib.dump(pipeline, pipeline_filename)\n",
        "print(f\"Pipeline saved as {pipeline_filename}\")\n",
        "\n",
        "# Step 9: Validate Model Accuracy on Test Set\n",
        "print(\"\\nFinal Model Accuracy Validation:\")\n",
        "print(\"R2 Score on Test Set:\", r2_score(y_test, final_predictions))\n",
        "print(\"MAE on Test Set:\", mean_absolute_error(y_test, final_predictions))\n",
        "print(\"MSE on Test Set:\", mean_squared_error(y_test, final_predictions))\n",
        "\n",
        "# Conclusion\n",
        "print(\"\\nProject Completed Successfully! Use the saved pipeline for future predictions.\")"
      ],
      "metadata": {
        "id": "FQ9Zy2AoO3kX"
      },
      "execution_count": null,
      "outputs": []
    }
  ]
}